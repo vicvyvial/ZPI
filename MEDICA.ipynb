{
  "cells": [
    {
      "cell_type": "markdown",
      "metadata": {
        "id": "view-in-github",
        "colab_type": "text"
      },
      "source": [
        "<a href=\"https://colab.research.google.com/github/vicvyvial/ZPI/blob/main/MEDICA.ipynb\" target=\"_parent\"><img src=\"https://colab.research.google.com/assets/colab-badge.svg\" alt=\"Open In Colab\"/></a>"
      ]
    },
    {
      "cell_type": "markdown",
      "id": "acbbcf73",
      "metadata": {
        "id": "acbbcf73"
      },
      "source": [
        "# 🏥 Medica+ – System rejestracji pacjentów\n",
        "\n",
        "Demo aplikacji w środowisku Google Colab z użyciem **Flask + SQLite**."
      ]
    },
    {
      "cell_type": "code",
      "source": [
        "!pip install pyngrok"
      ],
      "metadata": {
        "colab": {
          "base_uri": "https://localhost:8080/"
        },
        "id": "Ai14BUknN7UQ",
        "outputId": "d6899026-7aab-40f9-cec0-31f267fcca00"
      },
      "id": "Ai14BUknN7UQ",
      "execution_count": null,
      "outputs": [
        {
          "output_type": "stream",
          "name": "stdout",
          "text": [
            "Requirement already satisfied: pyngrok in /usr/local/lib/python3.11/dist-packages (7.2.4)\n",
            "Requirement already satisfied: PyYAML>=5.1 in /usr/local/lib/python3.11/dist-packages (from pyngrok) (6.0.2)\n"
          ]
        }
      ]
    },
    {
      "cell_type": "code",
      "source": [],
      "metadata": {
        "id": "1SgPmd5_Vg_g"
      },
      "id": "1SgPmd5_Vg_g",
      "execution_count": null,
      "outputs": []
    },
    {
      "cell_type": "code",
      "execution_count": null,
      "id": "7af96927",
      "metadata": {
        "colab": {
          "base_uri": "https://localhost:8080/"
        },
        "id": "7af96927",
        "outputId": "752f1460-c453-4c55-80bc-16a9ad8e01e2"
      },
      "outputs": [
        {
          "output_type": "stream",
          "name": "stdout",
          "text": [
            "Twoja aplikacja Flask jest dostępna pod: NgrokTunnel: \"https://814f-35-245-187-175.ngrok-free.app\" -> \"http://localhost:5000\"\n",
            " * Serving Flask app '__main__'\n",
            " * Debug mode: off\n"
          ]
        }
      ],
      "source": [
        "!pip install flask pyngrok > /dev/null\n",
        "\n",
        "from flask import Flask, request, render_template_string, redirect, session, url_for\n",
        "from pyngrok import ngrok\n",
        "import sqlite3\n",
        "import threading\n",
        "\n",
        "# --- Inicjalizacja Flask ---\n",
        "app = Flask(__name__)\n",
        "app.secret_key = 'tajny_klucz'\n",
        "\n",
        "# --- HTML jako stringi ---\n",
        "add_patient_html = '''\n",
        "<h2>Dodaj pacjenta</h2>\n",
        "<form method=\"POST\">\n",
        "    Imię: <input name=\"imie\"><br>\n",
        "    Nazwisko: <input name=\"nazwisko\"><br>\n",
        "    Data urodzenia: <input type=\"date\" name=\"data_urodzenia\"><br>\n",
        "    PESEL: <input name=\"pesel\"><br>\n",
        "    Adres: <input name=\"adres\"><br>\n",
        "    Telefon: <input name=\"telefon\"><br>\n",
        "    Email (login): <input name=\"email\"><br>\n",
        "    Historia medyczna: <textarea name=\"historia_medyczna\"></textarea><br>\n",
        "    <button type=\"submit\">Dodaj</button>\n",
        "</form>\n",
        "'''\n",
        "\n",
        "login_html = '''\n",
        "<h2>Logowanie</h2>\n",
        "<form method=\"POST\">\n",
        "    Login: <input name=\"login\"><br>\n",
        "    Hasło: <input type=\"password\" name=\"haslo\"><br>\n",
        "    <button type=\"submit\">Zaloguj</button>\n",
        "</form>\n",
        "'''\n",
        "\n",
        "card_html = '''\n",
        "<h2>Karta pacjenta</h2>\n",
        "<p><strong>Imię:</strong> {{ pacjent.imie }}</p>\n",
        "<p><strong>Nazwisko:</strong> {{ pacjent.nazwisko }}</p>\n",
        "<p><strong>Data urodzenia:</strong> {{ pacjent.data_urodzenia }}</p>\n",
        "<p><strong>PESEL:</strong> {{ pacjent.pesel }}</p>\n",
        "<p><strong>Adres:</strong> {{ pacjent.adres }}</p>\n",
        "<p><strong>Telefon:</strong> {{ pacjent.telefon }}</p>\n",
        "<p><strong>Email:</strong> {{ pacjent.email }}</p>\n",
        "<p><strong>Historia medyczna:</strong> {{ pacjent.historia_medyczna }}</p>\n",
        "'''\n",
        "\n",
        "# --- Funkcja tworząca bazę danych ---\n",
        "def init_db():\n",
        "    conn = sqlite3.connect('medica.db')\n",
        "    cursor = conn.cursor()\n",
        "    cursor.execute('''\n",
        "    CREATE TABLE IF NOT EXISTS Pacjent (\n",
        "        id INTEGER PRIMARY KEY AUTOINCREMENT,\n",
        "        imie TEXT,\n",
        "        nazwisko TEXT,\n",
        "        data_urodzenia TEXT,\n",
        "        pesel TEXT UNIQUE,\n",
        "        adres TEXT,\n",
        "        telefon TEXT,\n",
        "        email TEXT UNIQUE,\n",
        "        historia_medyczna TEXT\n",
        "    )''')\n",
        "    cursor.execute('''\n",
        "    CREATE TABLE IF NOT EXISTS Uzytkownik (\n",
        "        id INTEGER PRIMARY KEY AUTOINCREMENT,\n",
        "        id_pacjenta INTEGER,\n",
        "        login TEXT UNIQUE,\n",
        "        haslo TEXT,\n",
        "        rola TEXT,\n",
        "        FOREIGN KEY (id_pacjenta) REFERENCES Pacjent(id)\n",
        "    )''')\n",
        "    conn.commit()\n",
        "    conn.close()\n",
        "\n",
        "# --- Routing aplikacji ---\n",
        "@app.route('/')\n",
        "def home():\n",
        "    return redirect(url_for('login'))\n",
        "\n",
        "@app.route('/add_patient', methods=['GET', 'POST'])\n",
        "def add_patient():\n",
        "    if request.method == 'POST':\n",
        "        data = request.form\n",
        "        conn = sqlite3.connect('medica.db')\n",
        "        cursor = conn.cursor()\n",
        "        cursor.execute('''INSERT INTO Pacjent (imie, nazwisko, data_urodzenia, pesel, adres, telefon, email, historia_medyczna)\n",
        "                          VALUES (?, ?, ?, ?, ?, ?, ?, ?)''',\n",
        "                       (data['imie'], data['nazwisko'], data['data_urodzenia'], data['pesel'],\n",
        "                        data['adres'], data['telefon'], data['email'], data['historia_medyczna']))\n",
        "        pacjent_id = cursor.lastrowid\n",
        "        cursor.execute('''INSERT INTO Uzytkownik (id_pacjenta, login, haslo, rola)\n",
        "                          VALUES (?, ?, ?, ?)''',\n",
        "                       (pacjent_id, data['email'], '1234', 'pacjent'))\n",
        "        conn.commit()\n",
        "        conn.close()\n",
        "        return redirect(url_for('login'))\n",
        "    return render_template_string(add_patient_html)\n",
        "\n",
        "@app.route('/login', methods=['GET', 'POST'])\n",
        "def login():\n",
        "    if request.method == 'POST':\n",
        "        login = request.form['login']\n",
        "        haslo = request.form['haslo']\n",
        "        conn = sqlite3.connect('medica.db')\n",
        "        cursor = conn.cursor()\n",
        "        cursor.execute('SELECT id_pacjenta FROM Uzytkownik WHERE login=? AND haslo=? AND rola=\"pacjent\"', (login, haslo))\n",
        "        user = cursor.fetchone()\n",
        "        conn.close()\n",
        "        if user:\n",
        "            session['id_pacjenta'] = user[0]\n",
        "            return redirect(url_for('card'))\n",
        "    return render_template_string(login_html)\n",
        "\n",
        "@app.route('/card')\n",
        "def card():\n",
        "    if 'id_pacjenta' not in session:\n",
        "        return redirect(url_for('login'))\n",
        "    conn = sqlite3.connect('medica.db')\n",
        "    cursor = conn.cursor()\n",
        "    cursor.execute('SELECT * FROM Pacjent WHERE id=?', (session['id_pacjenta'],))\n",
        "    row = cursor.fetchone()\n",
        "    conn.close()\n",
        "    if row:\n",
        "        keys = ['id', 'imie', 'nazwisko', 'data_urodzenia', 'pesel', 'adres', 'telefon', 'email', 'historia_medyczna']\n",
        "        pacjent = dict(zip(keys, row))\n",
        "        return render_template_string(card_html, pacjent=pacjent)\n",
        "    return \"Nie znaleziono pacjenta.\"\n",
        "\n",
        "# --- Inicjalizacja bazy ---\n",
        "init_db()\n",
        "\n",
        "# --- Konfiguracja ngrok ---\n",
        "from pyngrok import ngrok\n",
        "ngrok.set_auth_token(\"2vmZ3ZFDfUIJRPaQqSVoCU6bnRF_5q2AgJuLbdLHwT39pKdkD\")\n",
        "public_url = ngrok.connect(5000)\n",
        "print(\"Twoja aplikacja Flask jest dostępna pod:\", public_url)\n",
        "\n",
        "# --- Uruchomienie aplikacji w osobnym wątku ---\n",
        "def start_flask():\n",
        "    app.run()\n",
        "\n",
        "threading.Thread(target=start_flask).start()\n"
      ]
    }
  ],
  "metadata": {
    "colab": {
      "provenance": [],
      "include_colab_link": true
    },
    "language_info": {
      "name": "python"
    },
    "kernelspec": {
      "name": "python3",
      "display_name": "Python 3"
    }
  },
  "nbformat": 4,
  "nbformat_minor": 5
}